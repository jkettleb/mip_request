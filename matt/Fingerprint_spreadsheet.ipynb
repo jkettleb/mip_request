{
 "metadata": {
  "name": "",
  "signature": "sha256:e936417e8901c4eb8f91a480ca6dfdb77593d0fc0f11cb366cb6824eaf657816"
 },
 "nbformat": 3,
 "nbformat_minor": 0,
 "worksheets": [
  {
   "cells": [
    {
     "cell_type": "markdown",
     "metadata": {},
     "source": [
      "# Add fingerprint to spreadsheet"
     ]
    },
    {
     "cell_type": "markdown",
     "metadata": {},
     "source": [
      "imports"
     ]
    },
    {
     "cell_type": "code",
     "collapsed": false,
     "input": [
      "import openpyxl as xl\n",
      "import numpy as np"
     ],
     "language": "python",
     "metadata": {},
     "outputs": [],
     "prompt_number": 1
    },
    {
     "cell_type": "markdown",
     "metadata": {},
     "source": [
      "Get source spreadsheet"
     ]
    },
    {
     "cell_type": "code",
     "collapsed": false,
     "input": [
      "spreadsheet = \"CMIP6_MIP_tables_0-beta-38.xlsx\"\n",
      "wb = xl.load_workbook(spreadsheet)\n",
      "\n"
     ],
     "language": "python",
     "metadata": {},
     "outputs": [],
     "prompt_number": 2
    },
    {
     "cell_type": "code",
     "collapsed": false,
     "input": [
      "stash_mapping = \"struct_to_stash_271016.json\"\n",
      "import json\n",
      "fingerprint_to_stash = json.load(open(stash_mapping, \"r\"))"
     ],
     "language": "python",
     "metadata": {},
     "outputs": [],
     "prompt_number": 3
    },
    {
     "cell_type": "markdown",
     "metadata": {},
     "source": [
      "cell_methods mapping dictionary"
     ]
    },
    {
     "cell_type": "code",
     "collapsed": false,
     "input": [
      "cell_methods_map = {u'None':'',\n",
      " u'area:mean where floating_ice_sheet': 'a:m-fl-icesheet',\n",
      " u'area:mean where grounded_ice_sheet': 'a:m-gr-icesheet',\n",
      " u'area:mean where ice_free_sea over sea': 'a:m-ice-free',\n",
      " u'area:mean where ice_sheet': 'a:m-icesheet',\n",
      " u'area:mean where sea_ice over sea': 'a:m-seaice',\n",
      " u'area:mean where sea_ice':'a:m-seaice',\n",
      " u'area:mean where land':'a:m-land',\n",
      " u'area:mean where sea': 'a:m-sea',\n",
      " u'area:sum where sea': 'a:sum',\n",
      " u'area:where sea': 'a:sea',\n",
      " u'depth:minimum': 'd:min',\n",
      " u'longitude:mean': '',\n",
      " u'time:maximum': '',\n",
      " u'time:maximum within days': '',\n",
      " u'time:mean': '',\n",
      " u'time:mean (with samples weighted by snow mass)':'t:m-weighted_snowmass',\n",
      " u'time:mean over days':'',\n",
      " u'time:mean over years':'',\n",
      " u'time:mean within years':'',\n",
      " u'time:minimum':'',\n",
      " u'time:minimum within days':'',\n",
      " u'time:point':'',\n",
      " u'area:mean':'',\n",
      " u'area:point':'',\n",
      " u'area:sum':'',\n",
      "  u'area:mean where cloud':'a:mcloud',\n",
      "  u'area:mean where floating_ice_shelf':'a:m-ice-shelf-fl',\n",
      "  u'area:mean where grounded_ice_shelf':'a:m-ice-shelf-gr',\n",
      "  u'area:mean where ice_shelf':'a:m-ice-shelf',\n",
      "  u'area:mean where snow over sea_ice':'a:m-snow-seaice',\n",
      "  u'depth:minimum (shallowest local minimum)':'d:min-shallow',\n",
      "  u'time:mean (weighted by area of sea ice)':'',  #don't care \n",
      "  u'time:sum':'', #don't care about this one\n",
      "}\n",
      "\n"
     ],
     "language": "python",
     "metadata": {},
     "outputs": [],
     "prompt_number": 4
    },
    {
     "cell_type": "markdown",
     "metadata": {},
     "source": [
      "Routine to strip out list of STASH codes from Variable mapping column"
     ]
    },
    {
     "cell_type": "code",
     "collapsed": false,
     "input": [
      "dim_abbrev = {'?': '?',\n",
      " 'None': 'None',\n",
      " 'alev1': 'al',\n",
      " 'alevel': 'al',\n",
      " 'alevhalf': 'ah',\n",
      " 'alt16': 'alt',\n",
      " 'alt40': 'alt',\n",
      " 'angle': 'ang',\n",
      " 'basin': 'b',\n",
      " 'dbze': 'db',\n",
      " 'depth0m': 'd',\n",
      " 'depth100m': 'd',\n",
      " 'depth2000m': 'dmean',\n",
      " 'depth300m': 'dmean',\n",
      " 'depth700m': 'dmean',\n",
      " 'effectRad': 'ef',\n",
      " 'effectRadIc': 'RadIc',\n",
      " 'effectRadLi': 'RadLi',\n",
      " 'height10m': 'h',\n",
      " 'height2m': 'h',\n",
      " 'iceband': 'ice',\n",
      " 'icesheet': 'ice',\n",
      " 'landUse': 'lu',\n",
      " 'latitude': 'la',\n",
      " 'location': 'loc',\n",
      " 'longitude': 'lo',\n",
      " 'misrBands': 'misr',\n",
      " 'olayer100m': 'ola',\n",
      " 'olevel': 'ol',\n",
      " 'oline': 'oli',\n",
      " 'p1000': 'p',\n",
      " 'p200': 'p',\n",
      " 'p220': 'p',\n",
      " 'p500': 'p',\n",
      " 'p560': 'p',\n",
      " 'p700': 'p',\n",
      " 'p840': 'p',\n",
      " 'p850': 'p',\n",
      " 'plev10': 'p',\n",
      " 'plev14': 'p',\n",
      " 'plev16': 'p',\n",
      " 'plev17': 'p',\n",
      " 'plev19': 'p',\n",
      " u'plev200': 'p',\n",
      " 'plev23': 'p',\n",
      " 'plev27': 'p',\n",
      " 'plev3': 'p',\n",
      " 'plev36': 'p',\n",
      " 'plev39': 'p',\n",
      " u'plev3h': 'p',\n",
      " 'plev4': 'p',\n",
      " 'plev40': 'p',\n",
      " u'plev500': 'p',\n",
      " 'plev7': 'p',\n",
      " 'plev7c': 'p',\n",
      " 'plev7h': 'p',\n",
      " 'plev8': 'p',\n",
      " u'plev850': 'p',\n",
      " u'pot480': 'DEL',\n",
      " u'pot840': 'DEL',\n",
      " u'pr10': 'DEL',\n",
      " u'pr100': 'DEL',\n",
      " u'pr1000': 'DEL',\n",
      " u'pr30': 'DEL',\n",
      " u'pr40': 'DEL',\n",
      " u'pr5': 'DEL',\n",
      " u'pr50': 'DEL',\n",
      " u'pr500': 'DEL',\n",
      " u'pr70': 'DEL',\n",
      " u'pr700': 'DEL',\n",
      " u'pr850': 'DEL',\n",
      " u'relh50p': 'DEL',\n",
      " 'rho': 'r',\n",
      " 'scatratio': 'sc',\n",
      " 'sdepth': 'sd',\n",
      " 'sdepth1': 'sd',\n",
      " 'siline': 'ixs',\n",
      " 'site': 'si',\n",
      " 'slevel': 'soil',\n",
      " 'spectband': 'spec',\n",
      " 'sza5': 'sz',\n",
      " 'tau': 'ta',\n",
      " 'time': 'ti',\n",
      " 'time1': 'ti',\n",
      " 'time2': 'ti',\n",
      " 'time3': 'td',\n",
      " 'typebare': 'ty',\n",
      " 'typec3pft': 'ty',\n",
      " 'typec4pft': 'ty',\n",
      " 'typepdec': 'ty',\n",
      " 'typepever': 'ty',\n",
      " 'typesdec': 'ty',\n",
      " 'typesever': 'ty',\n",
      " 'vegtype': 'v',\n",
      " u'vgidx': 'DEL',\n",
      " u'wv440nm': 'DEL',\n",
      " u'wv550nm': 'DEL',\n",
      " u'wv870nm': 'DEL',\n",
      " 'xant': 'ant',\n",
      " 'xgre': 'gre',\n",
      " 'yant': 'ant',\n",
      " 'ygre': 'gre'}"
     ],
     "language": "python",
     "metadata": {},
     "outputs": [],
     "prompt_number": 5
    },
    {
     "cell_type": "markdown",
     "metadata": {},
     "source": [
      "build the fingerprints"
     ]
    },
    {
     "cell_type": "code",
     "collapsed": false,
     "input": [
      "from iris.fileformats.netcdf import parse_cell_methods\n",
      "\n",
      "def cm_key(cm):\n",
      "    comment = \"\"\n",
      "    if len(cm.comments) > 0:\n",
      "        comment = \" (\"+\", \".join([str(j) for j in cm.comments])+\")\"\n",
      "    return \"%s:%s\" %(cm.coord_names[0], cm.method) + comment\n",
      "\n",
      "def map_cell_methods(cell_method):\n",
      "    cm = parse_cell_methods(cell_method)\n",
      "    pcms = [cm_key(i) for i in cm]\n",
      "    cm_abbrevs = [cell_methods_map[pcm] for pcm in pcms]\n",
      "    tmp = [cm for cm in cm_abbrevs if cm !=\"\"]\n",
      "    if len(tmp) ==0:\n",
      "        return \"\"\n",
      "    else:\n",
      "        retval = \"+\".join(tmp)\n",
      "        return retval\n",
      "\n",
      "def generate_fingerprint(dim,var,cell_method):\n",
      "    try:\n",
      "        part1 = \"-\".join([dim_abbrev[i] for i in dim.split()])\n",
      "    except KeyError as err:\n",
      "        print \"var:\", var\n",
      "        print \"dim key error: %s\" %dim\n",
      "        return None\n",
      "    \n",
      "    try:\n",
      "        part2 = map_cell_methods(cell_method)#s_map[process_cell_method(cell_method)]\n",
      "        \n",
      "    except KeyError as err:\n",
      "        print \"var:\", var\n",
      "        print \"cell_method error: %s\" %cell_method\n",
      "        return None\n",
      "    \n",
      "    return \"_\".join([part1,part2,var])\n",
      "    "
     ],
     "language": "python",
     "metadata": {},
     "outputs": [],
     "prompt_number": 6
    },
    {
     "cell_type": "code",
     "collapsed": false,
     "input": [
      "fmt =\"%s%i\"\n",
      "\n",
      "CMOR_COL = \"L\"\n",
      "DIM_COL = \"K\"\n",
      "CELL_METHODS_COL = \"H\"\n",
      "FINGERPRINT_COL = \"Y\"\n",
      "STASHLIST_COL = \"Z\"\n",
      "for ws in wb.worksheets:\n",
      "    if ws.title == \"Notes\":\n",
      "        continue\n",
      "        \n",
      "    ws[fmt % (FINGERPRINT_COL,1)].value = \"Fingerprint\"\n",
      "    ws[fmt % (STASHLIST_COL,1)].value = \"STASH codes required\"\n",
      "    for row in range(2, ws.max_row + 1):\n",
      "        cmor = ws[fmt % (CMOR_COL, row)].value\n",
      "        dimensions = ws[fmt % (DIM_COL, row)].value\n",
      "        cell_methods = ws[fmt % (CELL_METHODS_COL, row)].value\n",
      "        fingerprint = generate_fingerprint(dimensions,cmor, cell_methods)\n",
      "        ws[fmt % (FINGERPRINT_COL, row)].value = fingerprint\n",
      "        if fingerprint_to_stash.has_key(fingerprint):\n",
      "            ws[fmt % (STASHLIST_COL, row)].value = fingerprint_to_stash[fingerprint]\n",
      "\n",
      "\n",
      "\n"
     ],
     "language": "python",
     "metadata": {},
     "outputs": [],
     "prompt_number": 7
    },
    {
     "cell_type": "code",
     "collapsed": false,
     "input": [
      "destination = spreadsheet.split(\"/\")[-1].replace(\".xlsx\",\"_fingerprinted.xlsx\")"
     ],
     "language": "python",
     "metadata": {},
     "outputs": [],
     "prompt_number": 8
    },
    {
     "cell_type": "code",
     "collapsed": false,
     "input": [
      "wb.save(destination)"
     ],
     "language": "python",
     "metadata": {},
     "outputs": [],
     "prompt_number": 9
    },
    {
     "cell_type": "code",
     "collapsed": false,
     "input": [],
     "language": "python",
     "metadata": {},
     "outputs": [],
     "prompt_number": 9
    }
   ],
   "metadata": {}
  }
 ]
}