{
 "cells": [
  {
   "cell_type": "code",
   "execution_count": 1,
   "metadata": {
    "collapsed": false
   },
   "outputs": [],
   "source": [
    "import openpyxl\n",
    "from collections import namedtuple\n",
    "from operator import attrgetter\n",
    "from itertools import groupby, izip"
   ]
  },
  {
   "cell_type": "code",
   "execution_count": 2,
   "metadata": {
    "collapsed": false
   },
   "outputs": [],
   "source": [
    "from process_spreadsheet import dim_processor, derive_domain_profile, derive_time_usage_profile"
   ]
  },
  {
   "cell_type": "code",
   "execution_count": 3,
   "metadata": {
    "collapsed": false
   },
   "outputs": [],
   "source": [
    "class RecordReader(object):\n",
    "    def __init__(self, title_row, entries):\n",
    "        self._entries = entries\n",
    "        self._title_row = tuple(cell.value for cell in title_row)\n",
    "        self._find_indexes()\n",
    "        self._record_factory = namedtuple('Request', \n",
    "                                          self._to_attrs())\n",
    "    def __call__(self, row):\n",
    "        args = tuple(row[index].value for index in self._indices)\n",
    "        return self._record_factory(*args)\n",
    "        \n",
    "    def _find_indexes(self):\n",
    "        self._indices = []\n",
    "        for entry in self._entries:\n",
    "            self._indices.append(self._title_row.index(entry))\n",
    "\n",
    "    def _to_attrs(self):\n",
    "        result = []\n",
    "        for entry in self._entries:\n",
    "            lc = entry.lower()\n",
    "            result.append(lc.replace(' ', '_'))\n",
    "        return result\n",
    "        "
   ]
  },
  {
   "cell_type": "code",
   "execution_count": 4,
   "metadata": {
    "collapsed": false
   },
   "outputs": [],
   "source": [
    "def still_valid(row):\n",
    "    return row[26].value == None or 'DELETE' not in row[26].value"
   ]
  },
  {
   "cell_type": "code",
   "execution_count": 5,
   "metadata": {
    "collapsed": true
   },
   "outputs": [],
   "source": [
    "source='/home/vagrant/Downloads/CMIP6_datareq_UKESM_mappings.xlsx'\n",
    "wb=openpyxl.load_workbook(source)\n",
    "\n",
    "ws=wb.get_sheet_by_name('Diagnostics')"
   ]
  },
  {
   "cell_type": "code",
   "execution_count": 6,
   "metadata": {
    "collapsed": false
   },
   "outputs": [
    {
     "name": "stdout",
     "output_type": "stream",
     "text": [
      "[u'cmor_label', u'title', u'miptable', u'cf_std_name', u'description', u'cell_methods', u'dimension', u'units', u'positive', u'realm', u'priority', u'requesting_mips', u'frequency', u'last_update', u'UKESM_component', u'Variable_mapping', u'PP_constraint', u'Model_units', u'Model_positive', u'Stream', u'Plan', u'Ticket', u'Comment (this goes into file metadata)', u\"Notes (this doesn't go in the metadata)\", u'Implemented', u'Model run test data', u'Dreq upgrade 01.bet.26 to 01.beta.37', u'duplicate key', u'Duplicate?', u'Fingerprint', u'STASH codes needed', u'Known issues']\n"
     ]
    }
   ],
   "source": [
    "rows = ws.rows\n",
    "\n",
    "titles = next(rows) # initial row\n",
    "titles[0].value=u'cmor_label' # replace the 'None'\n",
    "record = RecordReader(titles, ['cmor_label', 'miptable', \n",
    "                               'cell_methods', 'dimension',\n",
    "                              'frequency', 'STASH codes needed',\n",
    "                              'Variable_mapping', 'Plan'])\n",
    "print [cell.value for cell in titles]\n",
    "records = [record(row) for row in rows if still_valid(row)]"
   ]
  },
  {
   "cell_type": "code",
   "execution_count": 7,
   "metadata": {
    "collapsed": true
   },
   "outputs": [],
   "source": [
    "def included(record):\n",
    "    return ('fx' not in record.miptable and \n",
    "            record.stash_codes_needed and\n",
    "            record.plan and\n",
    "            record.plan != 'do not produce')\n",
    "\n",
    "wanted = filter(included, records)"
   ]
  },
  {
   "cell_type": "code",
   "execution_count": 8,
   "metadata": {
    "collapsed": false
   },
   "outputs": [
    {
     "name": "stdout",
     "output_type": "stream",
     "text": [
      "alevel site time1\n",
      "  CFsubhr cl m01s02i261\n",
      "  CFsubhr cli m01s02i309\n",
      "  CFsubhr clw m01s02i308\n",
      "  CFsubhr edt m01s03i472\n",
      "  CFsubhr evu m01s03i471\n",
      "  CFsubhr hur m01s30i113\n",
      "  CFsubhr hus m01s00i010\n",
      "  CFsubhr pfull m01s00i408\n",
      "  CFsubhr ta m01s30i111\n",
      "  CFsubhr tnhus m01s30i182 / TIMESTEP\n",
      "  CFsubhr tnhusa m01s12i182 / TIMESTEP\n",
      "  CFsubhr tnhusc m01s05i162 / TIMESTEP\n",
      "  CFsubhr tnhusmp ( m01s01i182+m01s02i182+m01s03i182+m01s04i142+m01s04i182+m01s05i182+m01s16i162+m01s16i182+m01s35i025 ) / TIMESTEP\n",
      "  CFsubhr tnhusscpbl (m01s03i182+m01s04i142+m01s04i182+m01s05i182-m01s05i162+m01s16i162+m01s16i182) / TIMESTEP\n",
      "  CFsubhr tnt m01s30i181 / TIMESTEP\n",
      "  CFsubhr tnta m01s12i181 / TIMESTEP\n",
      "  CFsubhr tntc m01s05i161 / TIMESTEP\n",
      "  CFsubhr tntmp (m01s01i181 + m01s02i181 + m01s03i181 + m01s04i141 + m01s04i181 + m01s05i181 + m01s06i181 + m01s16i161+ m01s16i181+m01s35i024) / TIMESTEP\n",
      "  CFsubhr tntr (m01s01i161 + m01s02i161) / TIMESTEP\n",
      "  CFsubhr tntscpbl (m01s03i181+m01s04i141+m01s04i181+m01s16i161+m01s16i181+m01s01i181-m01s01i161+m01s02i181-m01s02i161+m01s05i181-m01s05i161) / TIMESTEP\n",
      "  CFsubhr ua m01s00i002\n",
      "  CFsubhr va m01s00i003\n",
      "  CFsubhr wap m01s30i008\n",
      "  CFsubhr zg m01s16i201\n",
      "alevel time1 site\n",
      "  Esubhr reffclic m01s02i385\n",
      "  Esubhr reffclis m01s02i381\n",
      "  Esubhr reffclwc m01s02i384\n",
      "  Esubhr reffclws m01s02i380\n",
      "  Esubhr tnhuspbl m01s03i190 / TIMESTEP\n",
      "  Esubhr tnhusscp (m01s03i182-m01s03i190+m01s04i142+m01s04i182+m01s05i182-m01s05i162+m01s16i162+m01s16i182) / TIMESTEP\n",
      "  Esubhr tntpbl m01s03i189 / TIMESTEP\n",
      "  Esubhr tntrl m01s02i161/TIMESTEP\n",
      "  Esubhr tntrlcs m01s02i233\n",
      "  Esubhr tntrs m01s01i161/TIMESTEP\n",
      "  Esubhr tntrscs m01s01i233\n",
      "  Esubhr tntscp (m01s03i181-m01s03i189+m01s04i141+m01s04i181+m01s16i161+m01s16i181+m01s01i181-m01s01i161+m01s02i181-m01s02i161+m01s05i181-m01s05i161) / TIMESTEP\n",
      "alevhalf site time1\n",
      "  CFsubhr mc Idl(func='calc_mc', args='', stashcode='m01s05i250')\n",
      "  CFsubhr phalf m01s00i407\n",
      "  CFsubhr rld m01s02i218\n",
      "  CFsubhr rldcs m01s02i220\n",
      "  CFsubhr rlu hotspot(m01s02i217,m01s03i332,m01s02i205)\n",
      "\n",
      "  CFsubhr rlucs hotspot(m01s02i219,m01s03i332,m01s02i205)\n",
      "  CFsubhr rsd m01s01i218\n",
      "  CFsubhr rsdcs m01s01i220\n",
      "  CFsubhr rsu m01s01i217\n",
      "  CFsubhr rsucs m01s01i219\n",
      "location alt40 time1\n",
      "  CF3hr clcalipso m01s02i371/m01s02i325\n",
      "  CF3hr clcalipso2 m01s02i374/m01s02i325\n",
      "location alt40 time1 dbze\n",
      "  CF3hr cfadDbze94 m01s02i372\n",
      "location alt40 time1 scatratio\n",
      "  CF3hr cfadLidarsr532 m01s02i370\n",
      "location time1\n",
      "  CF3hr cltcalipso m01s02i347/m01s02i324\n",
      "location time1  p220\n",
      "  CF3hr clhcalipso m01s02i346/m01s02i323\n",
      "location time1  p560\n",
      "  CF3hr clmcalipso m01s02i345/m01s02i322\n",
      "location time1  p840\n",
      "  CF3hr cllcalipso m01s02i344/m01s02i321\n",
      "location time1 sza5\n",
      "  CF3hr parasolRefl script(m01s02i348)\n",
      "longitude latitude alt16 time misrBands\n",
      "  Emon clmisr script(m01s02i360,m01s02i330)\n",
      "longitude latitude alt16 time1 misrBands\n",
      "  E3hrPt clmisr script(m01s02i360,m01s02i330)\n",
      "longitude latitude time landUse \n",
      "  Emon gppLut m01s03i261 summed for the pseudo levels of the crop and pasture PFTs\n",
      "  Emon hflsLut m01s03i330\n",
      "  Emon hfssLut m01s03i290\n",
      "  Emon hussLut m01s03i229\n",
      "  Emon laiLut m01s19i007\n",
      "  Emon mrroLut m01s08i234 + m01s08i235\n",
      "  Emon mrsoLut m01s08i208\n",
      "  Emon mrsosLut m01s08i223\n",
      "  Emon nwdFracLut m01s19i013 summed for four crop and pasture PFTs\n",
      "  Emon rlusLut lut(m01s03i383,m01s19i013)\n",
      "  Emon rsusLut lut((m01s01i235-m01s03i382),m01s19i013)\n",
      "  Emon sweLut script(m01s08i236,m01s03i317)\n",
      "  Emon tasLut lut(m01s03i236,m01s19i013)\n",
      "  Emon tslsiLut lut(m01s00i024,m01s19i013)\n",
      "longitude latitude time1 landUse \n",
      "  Eyr fracLut lutFrac(m01s19i013,m01s00i505)\n",
      "time\n",
      "  Amon cfc11global mmr2molefrac(m01s34i055)\n",
      "  Amon ch4global glmean(mmr2molefrac(m01s51i009))\n",
      "  Amon n2oglobal mmr2molefrac(m01s34i049)\n",
      "time2\n",
      "  Amon ch4globalClim glmean(mmr2molefrac(m01s51i009))\n",
      "  Amon n2oglobalClim mmr2molefrac(m01s34i049)\n"
     ]
    }
   ],
   "source": [
    "dimensions =list(dim_processor(record.dimension) for record in wanted)\n",
    "domain_results, _ = derive_domain_profile(dimensions)\n",
    "unknowns = (record for record, result in izip(wanted, domain_results) if result.lower() == 'unknown')\n",
    "\n",
    "get_dims = attrgetter('dimension')\n",
    "for dims, recs in groupby(sorted(unknowns, key=get_dims), get_dims):\n",
    "    print dims\n",
    "    for rec in recs:\n",
    "        print ' ', rec.miptable, rec.cmor_label, rec.variable_mapping"
   ]
  },
  {
   "cell_type": "code",
   "execution_count": 9,
   "metadata": {
    "collapsed": false
   },
   "outputs": [
    {
     "name": "stdout",
     "output_type": "stream",
     "text": [
      "unknown time profiles\n",
      "  Emon pfull m01s00i408 mon None\n",
      "  Emon phalf m01s00i407 mon None\n",
      "  6hrLev pmlev m01s00i408 6hr None\n",
      "  6hrPlev ta m01s30i294/m01s30i304 6hr None\n",
      "  Emon tntlw m01s02i161 / TIMESTEP mon None\n",
      "  6hrPlev ua m01s30i201/m01s30i301 6hr None\n",
      "  6hrPlev va m01s30i202/m01s30i301 6hr None\n"
     ]
    }
   ],
   "source": [
    "def time_usage(rec):\n",
    "    res = derive_time_usage_profile(rec.miptable,\n",
    "                                    [rec.frequency],\n",
    "                                    [rec.cell_methods],\n",
    "                                    dbg=False)\n",
    "    return res[0]\n",
    "\n",
    "time_result = [time_usage(record) for record in wanted]\n",
    "\n",
    "print 'unknown time profiles'\n",
    "for result, rec in izip(time_result, wanted):\n",
    "    if result[0].lower() == 'unknown':\n",
    "        print ' ', rec.miptable, rec.cmor_label, rec.variable_mapping, rec.frequency, rec.cell_methods\n"
   ]
  },
  {
   "cell_type": "code",
   "execution_count": 10,
   "metadata": {
    "collapsed": false
   },
   "outputs": [
    {
     "name": "stdout",
     "output_type": "stream",
     "text": [
      "uknown usage profiles\n",
      "  IyrAnt post-process acabf SUM_icetiles(m01s08i578*m01s03i317) yr area: time: mean where ice_shelf\n",
      "  IyrGre post-process acabf SUM_icetiles(m01s08i578*m01s03i317) yr area: time: mean where ice_shelf\n",
      "  IyrAnt post-process areacelli SUM_icetiles(m01s03i317*m01s03i395) yr time: mean\n",
      "  IyrGre post-process areacelli SUM_icetiles(m01s03i317*m01s03i395) yr time: mean\n",
      "  Eyr available cSoil m01s19i016 yr time: point\n",
      "  Eyr available cVeg m01s19i002 yr time: point\n",
      "  Eyr post-process fracLut lutFrac(m01s19i013,m01s00i505) yr area: mean where landUse time: point\n",
      "  IyrAnt post-process orog m01s00i033 yr area: time: mean where ice_shelf\n",
      "  IyrGre post-process orog m01s00i033 yr area: time: mean where ice_shelf\n",
      "  E1hrClimMon available rlut m01s03i332 1hrClimMon area: mean time: mean within days time: mean over days\n",
      "  E1hrClimMon available rlutcs m01s02i206+m01s03i332-m01s02i205 1hrClimMon area: mean time: mean within days time: mean over days\n",
      "  E1hrClimMon available rsdt m01s01i207 1hrClimMon area: mean time: mean within days time: mean over days\n",
      "  E1hrClimMon available rsut m01s01i208 1hrClimMon area: mean time: mean within days time: mean over days\n",
      "  E1hrClimMon available rsutcs m01s01i209 1hrClimMon area: mean time: mean within days time: mean over days\n",
      "  IyrAnt post-process sftgif SUM_icetiles(m01s03i317) yr area: time: mean where ice_shelf\n",
      "  IyrGre post-process sftgif SUM_icetiles(m01s03i317) yr area: time: mean where ice_shelf\n",
      "  IyrAnt post-process snc script(m01s08i236,m01s03i317) yr area: time: mean where ice_shelf\n",
      "  IyrGre post-process snc script(m01s08i236,m01s03i317) yr area: time: mean where ice_shelf\n"
     ]
    }
   ],
   "source": [
    "print 'uknown usage profiles'\n",
    "for result, rec in izip(time_result, wanted):\n",
    "    if result[1].lower() == 'unknown':\n",
    "        print ' ', rec.miptable, rec.plan, rec.cmor_label, rec.variable_mapping, rec.frequency, rec.cell_methods"
   ]
  }
 ],
 "metadata": {
  "kernelspec": {
   "display_name": "Python 2",
   "language": "python",
   "name": "python2"
  },
  "language_info": {
   "codemirror_mode": {
    "name": "ipython",
    "version": 2
   },
   "file_extension": ".py",
   "mimetype": "text/x-python",
   "name": "python",
   "nbconvert_exporter": "python",
   "pygments_lexer": "ipython2",
   "version": "2.7.12"
  }
 },
 "nbformat": 4,
 "nbformat_minor": 1
}
