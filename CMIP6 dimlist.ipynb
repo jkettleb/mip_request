{
 "metadata": {
  "name": "",
  "signature": "sha256:8104cbb65462c4670653c77886be8627d22b88f5723cb8b928c05cdeec71ae5e"
 },
 "nbformat": 3,
 "nbformat_minor": 0,
 "worksheets": [
  {
   "cells": [
    {
     "cell_type": "code",
     "collapsed": false,
     "input": [
      "import variables_parsing\n",
      "from collections import Counter"
     ],
     "language": "python",
     "metadata": {},
     "outputs": [],
     "prompt_number": 13
    },
    {
     "cell_type": "code",
     "collapsed": false,
     "input": [
      "ifile = 'input/CMIP6_data_req_20151126.csv'\n",
      "recs = variables_parsing.read_cmip6_csv(ifile)"
     ],
     "language": "python",
     "metadata": {},
     "outputs": [],
     "prompt_number": 4
    },
    {
     "cell_type": "code",
     "collapsed": false,
     "input": [
      "dims = Counter()\n",
      "for rec in recs:\n",
      "    dims.update(rec.attdict['dimension'].split())"
     ],
     "language": "python",
     "metadata": {},
     "outputs": [],
     "prompt_number": 16
    },
    {
     "cell_type": "code",
     "collapsed": false,
     "input": [
      "for dim in sorted(dims.items()):\n",
      "    print dim"
     ],
     "language": "python",
     "metadata": {},
     "outputs": [
      {
       "output_type": "stream",
       "stream": "stdout",
       "text": [
        " ('?', 132)\n",
        "('alev1', 9)\n",
        "('alevel', 252)\n",
        "('alevhalf', 41)\n",
        "('alt40', 10)\n",
        "('angle', 7)\n",
        "('aslevel', 12)\n",
        "('basin', 23)\n",
        "('dbze', 2)\n",
        "('depth100m', 7)\n",
        "('effectRad', 12)\n",
        "('height10m', 15)\n",
        "('height2m', 21)\n",
        "('latitude', 1701)\n",
        "('location', 12)\n",
        "('longitude', 1642)\n",
        "('olayer100m', 12)\n",
        "('olevel', 255)\n",
        "('oline', 1)\n",
        "('p220', 3)\n",
        "('p500', 1)\n",
        "('p560', 3)\n",
        "('p700', 1)\n",
        "('p840', 3)\n",
        "('plev14', 2)\n",
        "('plev16', 2)\n",
        "('plev17', 3)\n",
        "('plev23', 28)\n",
        "('plev27', 25)\n",
        "('plev3', 4)\n",
        "('plev36', 10)\n",
        "('plev4', 6)\n",
        "('plev40', 8)\n",
        "('plev7', 10)\n",
        "('plev8', 7)\n",
        "('plevs', 15)\n",
        "('rho', 4)\n",
        "('scatratio', 2)\n",
        "('sdepth', 2)\n",
        "('sdepth1', 3)\n",
        "('site', 93)\n",
        "('slevel', 8)\n",
        "('spectband', 4)\n",
        "('sza5', 4)\n",
        "('tau', 2)\n",
        "('time', 1439)\n",
        "('time1', 292)\n",
        "('time2', 43)\n",
        "('typebare', 1)\n",
        "('typec3pft', 1)\n",
        "('typec4pft', 1)\n",
        "('typepdec', 1)\n",
        "('typepever', 1)\n",
        "('typesdec', 1)\n",
        "('typesever', 1)\n",
        "('vegtype', 1)\n"
       ]
      }
     ],
     "prompt_number": 20
    }
   ],
   "metadata": {}
  }
 ]
}